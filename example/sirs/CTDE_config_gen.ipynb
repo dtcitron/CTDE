{
 "metadata": {
  "name": ""
 },
 "nbformat": 3,
 "nbformat_minor": 0,
 "worksheets": [
  {
   "cells": [
    {
     "cell_type": "code",
     "collapsed": false,
     "input": [
      "import networkx as nx\n",
      "import numpy as np\n",
      "import h5py\n",
      "import gdy\n",
      "from collections import Counter\n",
      "import gdy"
     ],
     "language": "python",
     "metadata": {},
     "outputs": [],
     "prompt_number": 2
    },
    {
     "cell_type": "code",
     "collapsed": false,
     "input": [
      "def edgedata(g):\n",
      "    \"\"\"\n",
      "    Return edge data in a form that can be output as HDF5\n",
      "    For the purposes of reconstituting graphs in Julia\n",
      "    \n",
      "    Specifically, the edgedata is an Nx2 array, where N\n",
      "    is the number of edges, essentially a list of tuples\n",
      "    \"\"\"\n",
      "    e = np.array(g.edges()) + 1\n",
      "    return e\n",
      "\n",
      "def kmean(g):\n",
      "    \"\"\"\n",
      "    Return mean degree from graph g\n",
      "    \"\"\"\n",
      "    m = mean(g.degree().values()) \n",
      "    return m\n",
      "\n",
      "def k2m(g):\n",
      "    \"\"\"\n",
      "    Return 2nd moment of degree distribution\n",
      "    Note that this is different from the variance\n",
      "    Also not the same as the standard deviation\n",
      "    \"\"\"\n",
      "    m = kmean(g)\n",
      "    v = var(g.degree().values())\n",
      "    return (v + m*m)"
     ],
     "language": "python",
     "metadata": {},
     "outputs": [],
     "prompt_number": 9
    },
    {
     "cell_type": "code",
     "collapsed": false,
     "input": [
      "# Every configuration file needs:\n",
      "# 1. Graph edgedata - edgedata, array\n",
      "# 2. Size of graph - int\n",
      "# 3. Observation times - otimes, array\n",
      "# 4. R0s - R0, array\n",
      "# 5. alphas - alphas, array\n",
      "# 6. mean degree - kmean, float\n",
      "# 7. output file name - fname, string\n",
      "# 8. description of input file -  string"
     ],
     "language": "python",
     "metadata": {},
     "outputs": [],
     "prompt_number": 4
    },
    {
     "cell_type": "heading",
     "level": 1,
     "metadata": {},
     "source": [
      "Example"
     ]
    },
    {
     "cell_type": "code",
     "collapsed": false,
     "input": [
      "# Here's our example graph\n",
      "g = nx.barabasi_albert_graph(500, 3, 1);\n",
      "#g = nx.complete_graph(50)"
     ],
     "language": "python",
     "metadata": {},
     "outputs": [],
     "prompt_number": 114
    },
    {
     "cell_type": "code",
     "collapsed": false,
     "input": [
      "edata = edgedata(g);\n",
      "graphsize = len(g);\n",
      "otimes = np.array([1.,2.,5., 10., 20., 50.])\n",
      "R0s = np.array([.5, .7, .9, 1.1, 1.3, 1.5])\n",
      "alphas = np.array([1., .3, 1, 3, 10])\n",
      "k = kmean(g);\n",
      "nruns = 100;\n",
      "# Note that writing out strings in unicode makes them\n",
      "# easily transferrable to Julia\n",
      "fname = u'workflow_tests/config_test_2'\n",
      "desc = u'This is only a test'"
     ],
     "language": "python",
     "metadata": {},
     "outputs": [],
     "prompt_number": 115
    },
    {
     "cell_type": "code",
     "collapsed": false,
     "input": [
      "f = h5py.File(\"workflow_tests/config_test_2.hdf5\", \"w\");"
     ],
     "language": "python",
     "metadata": {},
     "outputs": [],
     "prompt_number": 116
    },
    {
     "cell_type": "code",
     "collapsed": false,
     "input": [
      "g1 = f.create_group(\"g1\")"
     ],
     "language": "python",
     "metadata": {},
     "outputs": [],
     "prompt_number": 117
    },
    {
     "cell_type": "code",
     "collapsed": false,
     "input": [
      "d = g1.create_dataset(\"edgedata\", data = edata)\n",
      "d = g1.create_dataset(\"graphsize\", data = graphsize)\n",
      "d = g1.create_dataset(\"otimes\", data = otimes)\n",
      "d = g1.create_dataset(\"R0s\", data = R0s)\n",
      "d = g1.create_dataset(\"alphas\", data = alphas)\n",
      "d = g1.create_dataset(\"kmean\", data = k)\n",
      "d = g1.create_dataset(\"nruns\", data = nruns)\n",
      "d = g1.create_dataset(\"filename\", data = fname)\n",
      "d = g1.create_dataset(\"description\", data = desc)"
     ],
     "language": "python",
     "metadata": {},
     "outputs": [],
     "prompt_number": 118
    },
    {
     "cell_type": "code",
     "collapsed": false,
     "input": [
      "f.close()"
     ],
     "language": "python",
     "metadata": {},
     "outputs": [],
     "prompt_number": 119
    },
    {
     "cell_type": "code",
     "collapsed": false,
     "input": [],
     "language": "python",
     "metadata": {},
     "outputs": [],
     "prompt_number": 58
    },
    {
     "cell_type": "code",
     "collapsed": false,
     "input": [],
     "language": "python",
     "metadata": {},
     "outputs": []
    }
   ],
   "metadata": {}
  }
 ]
}
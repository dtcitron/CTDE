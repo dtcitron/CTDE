{
 "metadata": {
  "name": ""
 },
 "nbformat": 3,
 "nbformat_minor": 0,
 "worksheets": [
  {
   "cells": [
    {
     "cell_type": "code",
     "collapsed": false,
     "input": [
      "import networkx as nx\n",
      "import numpy as np\n",
      "import h5py\n",
      "import gdy\n",
      "from collections import Counter\n",
      "import gdy"
     ],
     "language": "python",
     "metadata": {},
     "outputs": [],
     "prompt_number": 1
    },
    {
     "cell_type": "code",
     "collapsed": false,
     "input": [
      "def edgedata(g):\n",
      "    \"\"\"\n",
      "    Return edge data in a form that can be output as HDF5\n",
      "    For the purposes of reconstituting graphs in Julia\n",
      "    \n",
      "    Specifically, the edgedata is an Nx2 array, where N\n",
      "    is the number of edges, essentially a list of tuples\n",
      "    \"\"\"\n",
      "    e = np.array(g.edges()) + 1\n",
      "    return e\n",
      "\n",
      "def kmean(g):\n",
      "    \"\"\"\n",
      "    Return mean degree from graph g\n",
      "    \"\"\"\n",
      "    m = mean(g.degree().values()) \n",
      "    return m\n",
      "\n",
      "def k2m(g):\n",
      "    \"\"\"\n",
      "    Return 2nd moment of degree distribution\n",
      "    Note that this is different from the variance\n",
      "    Also not the same as the standard deviation\n",
      "    \"\"\"\n",
      "    m = kmean(g)\n",
      "    v = var(g.degree().values())\n",
      "    return (v + m*m)"
     ],
     "language": "python",
     "metadata": {},
     "outputs": [],
     "prompt_number": 2
    },
    {
     "cell_type": "code",
     "collapsed": false,
     "input": [
      "# Every configuration file needs:\n",
      "# 1. Graph edgedata - edgedata, array\n",
      "# 2. Size of graph - int\n",
      "# 3. Observation times - otimes, array\n",
      "# 4. R0s - R0, array\n",
      "# 5. alphas - alphas, array\n",
      "# 6. mean degree - kmean, float\n",
      "# 7. output file name - fname, string\n",
      "# 8. description of input file -  string"
     ],
     "language": "python",
     "metadata": {},
     "outputs": [],
     "prompt_number": 3
    },
    {
     "cell_type": "heading",
     "level": 1,
     "metadata": {},
     "source": [
      "Example"
     ]
    },
    {
     "cell_type": "code",
     "collapsed": false,
     "input": [
      "# Here's our example graph\n",
      "g = nx.barabasi_albert_graph(500, 3, 1);\n",
      "#g = nx.complete_graph(50)"
     ],
     "language": "python",
     "metadata": {},
     "outputs": [],
     "prompt_number": 114
    },
    {
     "cell_type": "code",
     "collapsed": false,
     "input": [
      "edata = edgedata(g);\n",
      "graphsize = len(g);\n",
      "otimes = np.array([1.,2.,5., 10., 20., 50.])\n",
      "R0s = np.array([.5, .7, .9, 1.1, 1.3, 1.5])\n",
      "alphas = np.array([1., .3, 1, 3, 10])\n",
      "k = kmean(g);\n",
      "nruns = 100;\n",
      "# Note that writing out strings in unicode makes them\n",
      "# easily transferrable to Julia\n",
      "fname = u'workflow_tests/config_test_2'\n",
      "desc = u'This is only a test'"
     ],
     "language": "python",
     "metadata": {},
     "outputs": [],
     "prompt_number": 115
    },
    {
     "cell_type": "code",
     "collapsed": false,
     "input": [
      "f = h5py.File(\"workflow_tests/config_test_2.hdf5\", \"w\");"
     ],
     "language": "python",
     "metadata": {},
     "outputs": [],
     "prompt_number": 116
    },
    {
     "cell_type": "code",
     "collapsed": false,
     "input": [
      "g1 = f.create_group(\"g1\")"
     ],
     "language": "python",
     "metadata": {},
     "outputs": [],
     "prompt_number": 117
    },
    {
     "cell_type": "code",
     "collapsed": false,
     "input": [
      "d = g1.create_dataset(\"edgedata\", data = edata)\n",
      "d = g1.create_dataset(\"graphsize\", data = graphsize)\n",
      "d = g1.create_dataset(\"otimes\", data = otimes)\n",
      "d = g1.create_dataset(\"R0s\", data = R0s)\n",
      "d = g1.create_dataset(\"alphas\", data = alphas)\n",
      "d = g1.create_dataset(\"kmean\", data = k)\n",
      "d = g1.create_dataset(\"nruns\", data = nruns)\n",
      "d = g1.create_dataset(\"filename\", data = fname)\n",
      "d = g1.create_dataset(\"description\", data = desc)"
     ],
     "language": "python",
     "metadata": {},
     "outputs": [],
     "prompt_number": 118
    },
    {
     "cell_type": "code",
     "collapsed": false,
     "input": [
      "f.close()"
     ],
     "language": "python",
     "metadata": {},
     "outputs": [],
     "prompt_number": 119
    },
    {
     "cell_type": "code",
     "collapsed": false,
     "input": [],
     "language": "python",
     "metadata": {},
     "outputs": [],
     "prompt_number": 58
    },
    {
     "cell_type": "heading",
     "level": 1,
     "metadata": {},
     "source": [
      "Create the configuration files for the testing of large graph sizes on the Rockefeller machines"
     ]
    },
    {
     "cell_type": "code",
     "collapsed": false,
     "input": [
      "g_sparse = nx.gnp_random_graph(10000, 10./10000, seed = 0)"
     ],
     "language": "python",
     "metadata": {},
     "outputs": [],
     "prompt_number": 4
    },
    {
     "cell_type": "code",
     "collapsed": false,
     "input": [
      "g_dense = nx.gnp_random_graph(10000, 1000./10000, seed = 0)"
     ],
     "language": "python",
     "metadata": {},
     "outputs": [],
     "prompt_number": 34
    },
    {
     "cell_type": "code",
     "collapsed": false,
     "input": [
      "g_complete = nx.complete_graph(1000)"
     ],
     "language": "python",
     "metadata": {},
     "outputs": [],
     "prompt_number": 5
    },
    {
     "cell_type": "code",
     "collapsed": false,
     "input": [
      "f = h5py.File(\"large_graphs.hdf5\", \"w\");"
     ],
     "language": "python",
     "metadata": {},
     "outputs": [],
     "prompt_number": 6
    },
    {
     "cell_type": "code",
     "collapsed": false,
     "input": [
      "edata = edgedata(g_sparse);\n",
      "graphsize = len(g_sparse);\n",
      "otimes = np.array([range(1,100)])\n",
      "R0s = np.array([2.])\n",
      "alphas = np.array([100.])\n",
      "k = kmean(g_sparse);\n",
      "nruns = 100;\n",
      "# Note that writing out strings in unicode makes them\n",
      "# easily transferrable to Julia\n",
      "fname = u'benchmark_large/g_sparse'\n",
      "desc = u'Sparse graph, 10k nodes with <k> = 10'"
     ],
     "language": "python",
     "metadata": {},
     "outputs": [],
     "prompt_number": 9
    },
    {
     "cell_type": "code",
     "collapsed": false,
     "input": [
      "g1 = f.create_group(\"g_sparse\")"
     ],
     "language": "python",
     "metadata": {},
     "outputs": [],
     "prompt_number": 11
    },
    {
     "cell_type": "code",
     "collapsed": false,
     "input": [
      "d = g1.create_dataset(\"edgedata\", data = edata)\n",
      "d = g1.create_dataset(\"graphsize\", data = graphsize)\n",
      "d = g1.create_dataset(\"otimes\", data = otimes)\n",
      "d = g1.create_dataset(\"R0s\", data = R0s)\n",
      "d = g1.create_dataset(\"alphas\", data = alphas)\n",
      "d = g1.create_dataset(\"kmean\", data = k)\n",
      "d = g1.create_dataset(\"nruns\", data = nruns)\n",
      "d = g1.create_dataset(\"filename\", data = fname)\n",
      "d = g1.create_dataset(\"description\", data = desc)"
     ],
     "language": "python",
     "metadata": {},
     "outputs": [],
     "prompt_number": 12
    },
    {
     "cell_type": "code",
     "collapsed": false,
     "input": [
      "edata = edgedata(g_complete);\n",
      "graphsize = len(g_complete);\n",
      "otimes = np.array([range(1,100)])\n",
      "R0s = np.array([2.])\n",
      "alphas = np.array([100.])\n",
      "k = kmean(g_complete);\n",
      "nruns = 100;\n",
      "# Note that writing out strings in unicode makes them\n",
      "# easily transferrable to Julia\n",
      "fname = u'benchmark_large/g_complete'\n",
      "desc = u'Complete graph, 1k nodes'"
     ],
     "language": "python",
     "metadata": {},
     "outputs": [],
     "prompt_number": 13
    },
    {
     "cell_type": "code",
     "collapsed": false,
     "input": [
      "g2 = f.create_group(\"g_complete\")"
     ],
     "language": "python",
     "metadata": {},
     "outputs": [],
     "prompt_number": 14
    },
    {
     "cell_type": "code",
     "collapsed": false,
     "input": [
      "d = g2.create_dataset(\"edgedata\", data = edata)\n",
      "d = g2.create_dataset(\"graphsize\", data = graphsize)\n",
      "d = g2.create_dataset(\"otimes\", data = otimes)\n",
      "d = g2.create_dataset(\"R0s\", data = R0s)\n",
      "d = g2.create_dataset(\"alphas\", data = alphas)\n",
      "d = g2.create_dataset(\"kmean\", data = k)\n",
      "d = g2.create_dataset(\"nruns\", data = nruns)\n",
      "d = g2.create_dataset(\"filename\", data = fname)\n",
      "d = g2.create_dataset(\"description\", data = desc)"
     ],
     "language": "python",
     "metadata": {},
     "outputs": [],
     "prompt_number": 15
    },
    {
     "cell_type": "code",
     "collapsed": false,
     "input": [
      "edata = edgedata(g_dense);\n",
      "graphsize = len(g_dense);\n",
      "otimes = np.array([range(1,100)])\n",
      "R0s = np.array([2.])\n",
      "alphas = np.array([100.])\n",
      "k = kmean(g_dense);\n",
      "nruns = 100;\n",
      "# Note that writing out strings in unicode makes them\n",
      "# easily transferrable to Julia\n",
      "fname = u'benchmark_large/g_dense'\n",
      "desc = u'Dense graph, 10k nodes with <k> = 1000'"
     ],
     "language": "python",
     "metadata": {},
     "outputs": [],
     "prompt_number": 37
    },
    {
     "cell_type": "code",
     "collapsed": false,
     "input": [
      "g3 = f.create_group(\"g_dense\")"
     ],
     "language": "python",
     "metadata": {},
     "outputs": [
      {
       "ename": "ValueError",
       "evalue": "Unable to create group (Name already exists)",
       "output_type": "pyerr",
       "traceback": [
        "\u001b[0;31m---------------------------------------------------------------------------\u001b[0m\n\u001b[0;31mValueError\u001b[0m                                Traceback (most recent call last)",
        "\u001b[0;32m<ipython-input-38-01defe296716>\u001b[0m in \u001b[0;36m<module>\u001b[0;34m()\u001b[0m\n\u001b[0;32m----> 1\u001b[0;31m \u001b[0mg3\u001b[0m \u001b[0;34m=\u001b[0m \u001b[0mf\u001b[0m\u001b[0;34m.\u001b[0m\u001b[0mcreate_group\u001b[0m\u001b[0;34m(\u001b[0m\u001b[0;34m\"g_dense\"\u001b[0m\u001b[0;34m)\u001b[0m\u001b[0;34m\u001b[0m\u001b[0m\n\u001b[0m",
        "\u001b[0;32m/Users/dtcitron/anaconda/lib/python2.7/site-packages/h5py/_hl/group.pyc\u001b[0m in \u001b[0;36mcreate_group\u001b[0;34m(self, name)\u001b[0m\n\u001b[1;32m     39\u001b[0m         \"\"\"\n\u001b[1;32m     40\u001b[0m         \u001b[0mname\u001b[0m\u001b[0;34m,\u001b[0m \u001b[0mlcpl\u001b[0m \u001b[0;34m=\u001b[0m \u001b[0mself\u001b[0m\u001b[0;34m.\u001b[0m\u001b[0m_e\u001b[0m\u001b[0;34m(\u001b[0m\u001b[0mname\u001b[0m\u001b[0;34m,\u001b[0m \u001b[0mlcpl\u001b[0m\u001b[0;34m=\u001b[0m\u001b[0mTrue\u001b[0m\u001b[0;34m)\u001b[0m\u001b[0;34m\u001b[0m\u001b[0m\n\u001b[0;32m---> 41\u001b[0;31m         \u001b[0mgid\u001b[0m \u001b[0;34m=\u001b[0m \u001b[0mh5g\u001b[0m\u001b[0;34m.\u001b[0m\u001b[0mcreate\u001b[0m\u001b[0;34m(\u001b[0m\u001b[0mself\u001b[0m\u001b[0;34m.\u001b[0m\u001b[0mid\u001b[0m\u001b[0;34m,\u001b[0m \u001b[0mname\u001b[0m\u001b[0;34m,\u001b[0m \u001b[0mlcpl\u001b[0m\u001b[0;34m=\u001b[0m\u001b[0mlcpl\u001b[0m\u001b[0;34m)\u001b[0m\u001b[0;34m\u001b[0m\u001b[0m\n\u001b[0m\u001b[1;32m     42\u001b[0m         \u001b[0;32mreturn\u001b[0m \u001b[0mGroup\u001b[0m\u001b[0;34m(\u001b[0m\u001b[0mgid\u001b[0m\u001b[0;34m)\u001b[0m\u001b[0;34m\u001b[0m\u001b[0m\n\u001b[1;32m     43\u001b[0m \u001b[0;34m\u001b[0m\u001b[0m\n",
        "\u001b[0;32m/Users/dtcitron/anaconda/lib/python2.7/site-packages/h5py/h5g.so\u001b[0m in \u001b[0;36mh5py.h5g.create (h5py/h5g.c:2523)\u001b[0;34m()\u001b[0m\n",
        "\u001b[0;31mValueError\u001b[0m: Unable to create group (Name already exists)"
       ]
      }
     ],
     "prompt_number": 38
    },
    {
     "cell_type": "code",
     "collapsed": false,
     "input": [
      "d = g3.create_dataset(\"edgedata\", data = edata)\n",
      "d = g3.create_dataset(\"graphsize\", data = graphsize)\n",
      "d = g3.create_dataset(\"otimes\", data = otimes)\n",
      "d = g3.create_dataset(\"R0s\", data = R0s)\n",
      "d = g3.create_dataset(\"alphas\", data = alphas)\n",
      "d = g3.create_dataset(\"kmean\", data = k)\n",
      "d = g3.create_dataset(\"nruns\", data = nruns)\n",
      "d = g3.create_dataset(\"filename\", data = fname)\n",
      "d = g3.create_dataset(\"description\", data = desc)"
     ],
     "language": "python",
     "metadata": {},
     "outputs": [],
     "prompt_number": 39
    },
    {
     "cell_type": "code",
     "collapsed": false,
     "input": [
      "f.close()"
     ],
     "language": "python",
     "metadata": {},
     "outputs": [],
     "prompt_number": 43
    },
    {
     "cell_type": "code",
     "collapsed": false,
     "input": [],
     "language": "python",
     "metadata": {},
     "outputs": []
    }
   ],
   "metadata": {}
  }
 ]
}